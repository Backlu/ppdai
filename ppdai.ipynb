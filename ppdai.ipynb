{
 "cells": [
  {
   "cell_type": "markdown",
   "metadata": {
    "collapsed": true
   },
   "source": [
    "# PPDAI Text Mining"
   ]
  },
  {
   "cell_type": "markdown",
   "metadata": {},
   "source": [
    "HISTORY\n",
    "- 20180619: first version\n",
    "    - simple LSTM\n",
    "- 20180620:\n",
    "    - set reduce_lr callback\n",
    "    - set MAX_SEQUENCE_LENGTH to 100\n",
    "    - bi-directional model\n",
    "    - reduce validation data to 5%"
   ]
  },
  {
   "cell_type": "code",
   "execution_count": 13,
   "metadata": {},
   "outputs": [
    {
     "name": "stdout",
     "output_type": "stream",
     "text": [
      "The autoreload extension is already loaded. To reload it, use:\n",
      "  %reload_ext autoreload\n"
     ]
    }
   ],
   "source": [
    "%load_ext autoreload\n",
    "%autoreload 2\n",
    "from ppdaiutil import *"
   ]
  },
  {
   "cell_type": "code",
   "execution_count": 14,
   "metadata": {},
   "outputs": [],
   "source": [
    "config = {\n",
    "    'TRAIN_PATH':'data/train.csv',\n",
    "    'TEST_PATH':'data/test.csv',\n",
    "    'QUESTION_PATH' : 'data/question.csv',   \n",
    "}"
   ]
  },
  {
   "cell_type": "markdown",
   "metadata": {},
   "source": [
    "** read data **"
   ]
  },
  {
   "cell_type": "code",
   "execution_count": 15,
   "metadata": {
    "scrolled": true
   },
   "outputs": [
    {
     "name": "stdout",
     "output_type": "stream",
     "text": [
      "Load files...\n"
     ]
    }
   ],
   "source": [
    "print('Load files...')\n",
    "data={\n",
    "    'qes' : pd.read_csv(config['QUESTION_PATH']),\n",
    "    'tr' : pd.read_csv(config['TRAIN_PATH']),\n",
    "    'te' : pd.read_csv(config['TEST_PATH']),\n",
    "    #'co' : questions['words'],\n",
    "}\n",
    "data['co']=data['qes']['words']"
   ]
  },
  {
   "cell_type": "code",
   "execution_count": 16,
   "metadata": {
    "scrolled": false
   },
   "outputs": [],
   "source": [
    "if False:\n",
    "    display(data['qes'].head())\n",
    "    display(data['tr'].head())\n",
    "    display(data['te'].head())"
   ]
  },
  {
   "cell_type": "markdown",
   "metadata": {},
   "source": [
    "**1. ID轉成詞語序列or單字序列**"
   ]
  },
  {
   "cell_type": "code",
   "execution_count": 17,
   "metadata": {},
   "outputs": [
    {
     "name": "stdout",
     "output_type": "stream",
     "text": [
      "Get texts/chars...\n"
     ]
    }
   ],
   "source": [
    "def get_ids(qids):\n",
    "    ids = []\n",
    "    for t_ in qids:\n",
    "        ids.append(int(t_[1:]))\n",
    "    return np.asarray(ids)\n",
    "\n",
    "def get_textschars(d):\n",
    "    all_words = data['qes']['words']\n",
    "    all_chars = data['qes']['chars']\n",
    "    q1id, q2id = d['q1'], d['q2']\n",
    "    id1s, id2s = get_ids(q1id), get_ids(q2id)\n",
    "    q1_texts = []\n",
    "    q2_texts = []\n",
    "    for t_ in zip(id1s, id2s):\n",
    "        q1_texts.append(all_words[t_[0]])\n",
    "        q2_texts.append(all_words[t_[1]])\n",
    "    d['q1_texts'] = q1_texts\n",
    "    d['q2_texts'] = q2_texts\n",
    "    \n",
    "    q1_chars = []\n",
    "    q2_chars = []\n",
    "    for t_ in zip(id1s, id2s):\n",
    "        q1_chars.append(all_chars[t_[0]])\n",
    "        q2_chars.append(all_chars[t_[1]])\n",
    "    d['q1_chars'] = q1_chars\n",
    "    d['q2_chars'] = q2_chars\n",
    "    \n",
    "\n",
    "print('Get texts/chars...')\n",
    "get_textschars(data['tr'])\n",
    "get_textschars(data['te'])"
   ]
  },
  {
   "cell_type": "code",
   "execution_count": 18,
   "metadata": {},
   "outputs": [
    {
     "data": {
      "text/html": [
       "<div>\n",
       "<style scoped>\n",
       "    .dataframe tbody tr th:only-of-type {\n",
       "        vertical-align: middle;\n",
       "    }\n",
       "\n",
       "    .dataframe tbody tr th {\n",
       "        vertical-align: top;\n",
       "    }\n",
       "\n",
       "    .dataframe thead th {\n",
       "        text-align: right;\n",
       "    }\n",
       "</style>\n",
       "<table border=\"1\" class=\"dataframe\">\n",
       "  <thead>\n",
       "    <tr style=\"text-align: right;\">\n",
       "      <th></th>\n",
       "      <th>label</th>\n",
       "      <th>q1</th>\n",
       "      <th>q2</th>\n",
       "      <th>q1_texts</th>\n",
       "      <th>q2_texts</th>\n",
       "      <th>q1_chars</th>\n",
       "      <th>q2_chars</th>\n",
       "    </tr>\n",
       "  </thead>\n",
       "  <tbody>\n",
       "    <tr>\n",
       "      <th>0</th>\n",
       "      <td>1</td>\n",
       "      <td>Q397345</td>\n",
       "      <td>Q538594</td>\n",
       "      <td>W04465 W04058 W05284 W02916</td>\n",
       "      <td>W18238 W18843 W01490 W09905</td>\n",
       "      <td>L2218 L2568 L0360 L0242 L2218 L0741</td>\n",
       "      <td>L3019 L0104 L0582 L2218 L1861 L1556 L0242</td>\n",
       "    </tr>\n",
       "    <tr>\n",
       "      <th>1</th>\n",
       "      <td>0</td>\n",
       "      <td>Q193805</td>\n",
       "      <td>Q699273</td>\n",
       "      <td>W10054 W04476 W09996 W12244 W18103</td>\n",
       "      <td>W18439 W00863 W04259 W00740 W16070</td>\n",
       "      <td>L2376 L2168 L0050 L1187 L0104 L2432 L0902 L014...</td>\n",
       "      <td>L0156 L2452 L1187 L0104 L2459 L2979 L2613 L0449</td>\n",
       "    </tr>\n",
       "    <tr>\n",
       "      <th>2</th>\n",
       "      <td>0</td>\n",
       "      <td>Q085471</td>\n",
       "      <td>Q676160</td>\n",
       "      <td>W04346 W17378 W19355 W17926 W14185 W11567 W07863</td>\n",
       "      <td>W14586 W09745 W06017 W09067 W16319</td>\n",
       "      <td>L2323 L1526 L2214 L1132 L2723 L1861 L2249 L050...</td>\n",
       "      <td>L2568 L0971 L1291 L0358 L0037 L2582</td>\n",
       "    </tr>\n",
       "    <tr>\n",
       "      <th>3</th>\n",
       "      <td>0</td>\n",
       "      <td>Q189314</td>\n",
       "      <td>Q438123</td>\n",
       "      <td>W17508 W09996 W19662 W17534 W11399 W17057 W182...</td>\n",
       "      <td>W18238 W02357 W06606</td>\n",
       "      <td>L0018 L2321 L1346 L2432 L0902 L1149 L1980 L187...</td>\n",
       "      <td>L3019 L0104 L1104 L1935 L1683 L2495 L2812</td>\n",
       "    </tr>\n",
       "    <tr>\n",
       "      <th>4</th>\n",
       "      <td>0</td>\n",
       "      <td>Q267714</td>\n",
       "      <td>Q290126</td>\n",
       "      <td>W13157 W03390 W01952 W05789 W17378 W08714 W13157</td>\n",
       "      <td>W04476 W06606 W00316 W13157</td>\n",
       "      <td>L2271 L1346 L1389 L2932 L0466 L2218 L1971 L221...</td>\n",
       "      <td>L0050 L1187 L0104 L1683 L2495 L2812 L1588 L255...</td>\n",
       "    </tr>\n",
       "  </tbody>\n",
       "</table>\n",
       "</div>"
      ],
      "text/plain": [
       "   label       q1       q2                                           q1_texts  \\\n",
       "0      1  Q397345  Q538594                        W04465 W04058 W05284 W02916   \n",
       "1      0  Q193805  Q699273                 W10054 W04476 W09996 W12244 W18103   \n",
       "2      0  Q085471  Q676160   W04346 W17378 W19355 W17926 W14185 W11567 W07863   \n",
       "3      0  Q189314  Q438123  W17508 W09996 W19662 W17534 W11399 W17057 W182...   \n",
       "4      0  Q267714  Q290126   W13157 W03390 W01952 W05789 W17378 W08714 W13157   \n",
       "\n",
       "                             q2_texts  \\\n",
       "0         W18238 W18843 W01490 W09905   \n",
       "1  W18439 W00863 W04259 W00740 W16070   \n",
       "2  W14586 W09745 W06017 W09067 W16319   \n",
       "3                W18238 W02357 W06606   \n",
       "4         W04476 W06606 W00316 W13157   \n",
       "\n",
       "                                            q1_chars  \\\n",
       "0                L2218 L2568 L0360 L0242 L2218 L0741   \n",
       "1  L2376 L2168 L0050 L1187 L0104 L2432 L0902 L014...   \n",
       "2  L2323 L1526 L2214 L1132 L2723 L1861 L2249 L050...   \n",
       "3  L0018 L2321 L1346 L2432 L0902 L1149 L1980 L187...   \n",
       "4  L2271 L1346 L1389 L2932 L0466 L2218 L1971 L221...   \n",
       "\n",
       "                                            q2_chars  \n",
       "0          L3019 L0104 L0582 L2218 L1861 L1556 L0242  \n",
       "1    L0156 L2452 L1187 L0104 L2459 L2979 L2613 L0449  \n",
       "2                L2568 L0971 L1291 L0358 L0037 L2582  \n",
       "3          L3019 L0104 L1104 L1935 L1683 L2495 L2812  \n",
       "4  L0050 L1187 L0104 L1683 L2495 L2812 L1588 L255...  "
      ]
     },
     "execution_count": 18,
     "metadata": {},
     "output_type": "execute_result"
    }
   ],
   "source": [
    "data['tr'].head()"
   ]
  },
  {
   "cell_type": "markdown",
   "metadata": {},
   "source": [
    "**2. 序列化**\n",
    "- tokenizer"
   ]
  },
  {
   "cell_type": "code",
   "execution_count": 19,
   "metadata": {},
   "outputs": [
    {
     "data": {
      "image/png": "[encoded data removed]",
      "text/plain": [
       "<matplotlib.figure.Figure at 0x7f2b0db8d390>"
      ]
     },
     "metadata": {},
     "output_type": "display_data"
    }
   ],
   "source": [
    "\n",
    "with open('data/word_embed.txt') as f:\n",
    "    MAX_NB_WORDS = (len(list(f)))\n",
    "\n",
    "trq1_text=data['tr']['q1_texts'].values\n",
    "trq2_text=data['tr']['q2_texts'].values\n",
    "teq1_text=data['te']['q1_texts'].values\n",
    "teq2_text=data['te']['q2_texts'].values\n",
    "alltext=np.concatenate([trq1_text, trq2_text, teq1_text, teq2_text])\n",
    "#MAX_SEQUENCE_LENGTH = max(list(map(lambda x: len(x), alltext))) \n",
    "MAX_SEQUENCE_LENGTH=100\n",
    "\n",
    "tokenizer = Tokenizer(num_words=MAX_NB_WORDS) \n",
    "tokenizer.fit_on_texts(alltext) \n",
    "\n",
    "sns.distplot(list(map(lambda x: len(x), alltext)))\n",
    "plt.show()"
   ]
  },
  {
   "cell_type": "code",
   "execution_count": 20,
   "metadata": {},
   "outputs": [],
   "source": [
    "data['tr']['q1_sequences'] = tokenizer.texts_to_sequences(trq1_text) \n",
    "data['tr']['q2_sequences'] = tokenizer.texts_to_sequences(trq2_text) \n",
    "data['te']['q1_sequences'] = tokenizer.texts_to_sequences(teq1_text) \n",
    "data['te']['q2_sequences'] = tokenizer.texts_to_sequences(teq2_text) \n",
    "#data['tr'].head()"
   ]
  },
  {
   "cell_type": "code",
   "execution_count": 21,
   "metadata": {},
   "outputs": [
    {
     "name": "stdout",
     "output_type": "stream",
     "text": [
      "Found 15880 unique tokens\n"
     ]
    }
   ],
   "source": [
    "word_index = tokenizer.word_index \n",
    "print('Found %s unique tokens' % len(word_index)) "
   ]
  },
  {
   "cell_type": "markdown",
   "metadata": {},
   "source": [
    "** 3. pad_sequences **"
   ]
  },
  {
   "cell_type": "code",
   "execution_count": 22,
   "metadata": {},
   "outputs": [],
   "source": [
    "data['trq1_padseq'] = pad_sequences(data['tr']['q1_sequences'], maxlen=MAX_SEQUENCE_LENGTH) \n",
    "data['trq2_padseq'] = pad_sequences(data['tr']['q2_sequences'], maxlen=MAX_SEQUENCE_LENGTH) \n",
    "data['teq1_padseq'] = pad_sequences(data['te']['q1_sequences'], maxlen=MAX_SEQUENCE_LENGTH) \n",
    "data['teq2_padseq'] = pad_sequences(data['te']['q2_sequences'], maxlen=MAX_SEQUENCE_LENGTH) "
   ]
  },
  {
   "cell_type": "markdown",
   "metadata": {},
   "source": [
    "** 4. prepare embeddings**"
   ]
  },
  {
   "cell_type": "code",
   "execution_count": 23,
   "metadata": {},
   "outputs": [],
   "source": [
    "\n",
    "EMBEDDING_FILE='data/word_embed.txt'\n",
    "EMBEDDING_DIM = 300\n",
    "\n",
    "embeddings_index = {} \n",
    "f = open(EMBEDDING_FILE,\"rb\") \n",
    "for line in f: \n",
    "    values = line.split() \n",
    "    word = values[0].decode(encoding='utf-8')\n",
    "    coefs = np.asarray(values[1:], dtype='float32') \n",
    "    embeddings_index[word] = coefs \n",
    "f.close() \n",
    "\n",
    "nb_words = len(word_index)+1\n",
    "embedding_matrix = np.zeros((nb_words, EMBEDDING_DIM)) \n",
    "for word, i in word_index.items(): \n",
    "    word = word.upper()\n",
    "    embedding_vector = embeddings_index.get(word)\n",
    "    if embedding_vector is not None: \n",
    "        embedding_matrix[i] = embedding_vector \n",
    "\n",
    "    "
   ]
  },
  {
   "cell_type": "markdown",
   "metadata": {},
   "source": [
    "** prepare training data**"
   ]
  },
  {
   "cell_type": "code",
   "execution_count": 24,
   "metadata": {},
   "outputs": [],
   "source": [
    "## sample train/validation data\n",
    "\n",
    "VALIDATION_SPLIT = 0.05\n",
    "trlen = len(data['trq1_padseq'])\n",
    "perm = np.random.permutation(trlen)\n",
    "idx_train = perm[:int(trlen*(1-VALIDATION_SPLIT))] \n",
    "idx_val = perm[int(trlen*(1-VALIDATION_SPLIT)):] \n",
    "\n",
    "data_trainq1=data['trq1_padseq'][idx_train] \n",
    "data_trainq2=data['trq2_padseq'][idx_train] \n",
    "data_valq1=data['trq1_padseq'][idx_val] \n",
    "data_valq2=data['trq2_padseq'][idx_val] \n",
    "\n",
    "labels_train = data['tr']['label'][idx_train] \n",
    "labels_val = data['tr']['label'][idx_val] \n",
    "\n",
    "\n",
    "date_testq1 = data['teq1_padseq']\n",
    "date_testq2 = data['teq2_padseq']\n"
   ]
  },
  {
   "cell_type": "code",
   "execution_count": 26,
   "metadata": {},
   "outputs": [
    {
     "data": {
      "text/plain": [
       "100"
      ]
     },
     "execution_count": 26,
     "metadata": {},
     "output_type": "execute_result"
    }
   ],
   "source": [
    "MAX_SEQUENCE_LENGTH"
   ]
  },
  {
   "cell_type": "code",
   "execution_count": 27,
   "metadata": {},
   "outputs": [
    {
     "name": "stdout",
     "output_type": "stream",
     "text": [
      "__________________________________________________________________________________________________\n",
      "Layer (type)                    Output Shape         Param #     Connected to                     \n",
      "==================================================================================================\n",
      "q1_input (InputLayer)           (None, 100)          0                                            \n",
      "__________________________________________________________________________________________________\n",
      "q2_input (InputLayer)           (None, 100)          0                                            \n",
      "__________________________________________________________________________________________________\n",
      "embedding_2 (Embedding)         (None, 100, 300)     4764300     q1_input[0][0]                   \n",
      "                                                                 q2_input[0][0]                   \n",
      "__________________________________________________________________________________________________\n",
      "bidirectional_3 (Bidirectional) (None, 100, 600)     1442400     embedding_2[0][0]                \n",
      "__________________________________________________________________________________________________\n",
      "bidirectional_4 (Bidirectional) (None, 100, 600)     1442400     embedding_2[1][0]                \n",
      "__________________________________________________________________________________________________\n",
      "attention_3 (Attention)         (None, 600)          700         bidirectional_3[0][0]            \n",
      "__________________________________________________________________________________________________\n",
      "attention_4 (Attention)         (None, 600)          700         bidirectional_4[0][0]            \n",
      "__________________________________________________________________________________________________\n",
      "q1q2concat (Concatenate)        (None, 1200)         0           attention_3[0][0]                \n",
      "                                                                 attention_4[0][0]                \n",
      "__________________________________________________________________________________________________\n",
      "Q_dense (Dense)                 (None, 256)          307456      q1q2concat[0][0]                 \n",
      "__________________________________________________________________________________________________\n",
      "Q_drop (Dropout)                (None, 256)          0           Q_dense[0][0]                    \n",
      "__________________________________________________________________________________________________\n",
      "Q_batchnorm (BatchNormalization (None, 256)          1024        Q_drop[0][0]                     \n",
      "__________________________________________________________________________________________________\n",
      "Q_output (Dense)                (None, 1)            257         Q_batchnorm[0][0]                \n",
      "==================================================================================================\n",
      "Total params: 7,959,237\n",
      "Trainable params: 3,194,425\n",
      "Non-trainable params: 4,764,812\n",
      "__________________________________________________________________________________________________\n",
      "None\n"
     ]
    }
   ],
   "source": [
    "embedding_layer = Embedding(input_dim=nb_words, output_dim=300, weights=[embedding_matrix], input_length=MAX_SEQUENCE_LENGTH, trainable=False) \n",
    "num_lstm = 300\n",
    "num_dense = 256 \n",
    "rate_drop_lstm = 0.25 \n",
    "rate_drop_dense = 0.25 \n",
    "act = 'relu' \n",
    "\n",
    "\n",
    "q1_input = Input(shape=(MAX_SEQUENCE_LENGTH,), dtype='int32', name='q1_input') \n",
    "q2_input = Input(shape=(MAX_SEQUENCE_LENGTH,), dtype='int32', name='q2_input') \n",
    "q1_embseq= embedding_layer(q1_input) \n",
    "q2_embseq= embedding_layer(q2_input) \n",
    "\n",
    "lstm_layerq1 = LSTM(num_lstm, dropout=rate_drop_lstm, recurrent_dropout=rate_drop_lstm,return_sequences=True, name='q1_lstm') \n",
    "#q1_lstm = lstm_layerq1(q1_embseq) \n",
    "q1_lstm = Bidirectional(lstm_layerq1)(q1_embseq)\n",
    "#q1_drop = Dropout(rate_drop_dense, name='q1_drop')(q1_lstm) \n",
    "q1_att = Attention(MAX_SEQUENCE_LENGTH)(q1_lstm)\n",
    "\n",
    "lstm_layerq2 = LSTM(num_lstm, dropout=rate_drop_lstm, recurrent_dropout=rate_drop_lstm,return_sequences=True, name='q2_lstm') \n",
    "#q2_lstm = lstm_layerq2(q2_embseq) \n",
    "q2_lstm = Bidirectional(lstm_layerq2)(q2_embseq)\n",
    "#q2_drop = Dropout(rate_drop_dense, name='q2_drop')(q2_lstm) \n",
    "q2_att = Attention(MAX_SEQUENCE_LENGTH)(q2_lstm)\n",
    "\n",
    "q1q2_concat = Concatenate(axis=-1,name='q1q2concat')([q1_att,q2_att])\n",
    "q1q2_concat = Dense(num_dense, activation=act, name='Q_dense')(q1q2_concat) \n",
    "q1q2_concat = Dropout(rate_drop_dense, name='Q_drop')(q1q2_concat) \n",
    "q1q2_concat = BatchNormalization(name='Q_batchnorm')(q1q2_concat) \n",
    "preds = Dense(1, activation='sigmoid', name='Q_output')(q1q2_concat)\n",
    "\n",
    "model = Model(inputs=[q1_input, q2_input],  outputs=preds) \n",
    "model.compile(loss='binary_crossentropy', optimizer='rmsprop', metrics=['accuracy']) \n",
    "print(model.summary()) \n",
    "plot_model(model, to_file='model.png')"
   ]
  },
  {
   "cell_type": "markdown",
   "metadata": {
    "collapsed": true
   },
   "source": [
    "** training **"
   ]
  },
  {
   "cell_type": "code",
   "execution_count": null,
   "metadata": {
    "scrolled": true
   },
   "outputs": [
    {
     "name": "stdout",
     "output_type": "stream",
     "text": [
      "bst_model_path model/simple_lstm_best.h5\n",
      "Train on 241666 samples, validate on 12720 samples\n",
      "Epoch 1/50\n",
      "241666/241666 [==============================] - 263s 1ms/step - loss: 0.4007 - acc: 0.8143 - val_loss: 0.3265 - val_acc: 0.8529\n",
      "\n",
      "Epoch 00001: val_loss improved from inf to 0.32650, saving model to model/simple_lstm_best.h5\n",
      "Epoch 2/50\n",
      "241666/241666 [==============================] - 262s 1ms/step - loss: 0.2961 - acc: 0.8704 - val_loss: 0.2804 - val_acc: 0.8769\n",
      "\n",
      "Epoch 00002: val_loss improved from 0.32650 to 0.28043, saving model to model/simple_lstm_best.h5\n",
      "Epoch 3/50\n",
      "241666/241666 [==============================] - 262s 1ms/step - loss: 0.2555 - acc: 0.8902 - val_loss: 0.2516 - val_acc: 0.8910\n",
      "\n",
      "Epoch 00003: val_loss improved from 0.28043 to 0.25160, saving model to model/simple_lstm_best.h5\n",
      "Epoch 4/50\n",
      "241666/241666 [==============================] - 263s 1ms/step - loss: 0.2265 - acc: 0.9035 - val_loss: 0.2508 - val_acc: 0.8962\n",
      "\n",
      "Epoch 00004: val_loss improved from 0.25160 to 0.25081, saving model to model/simple_lstm_best.h5\n",
      "Epoch 5/50\n",
      "241666/241666 [==============================] - 262s 1ms/step - loss: 0.2070 - acc: 0.9137 - val_loss: 0.2377 - val_acc: 0.9016\n",
      "\n",
      "Epoch 00005: val_loss improved from 0.25081 to 0.23771, saving model to model/simple_lstm_best.h5\n",
      "Epoch 6/50\n",
      "241666/241666 [==============================] - 262s 1ms/step - loss: 0.1900 - acc: 0.9207 - val_loss: 0.2435 - val_acc: 0.9007\n",
      "\n",
      "Epoch 00006: val_loss did not improve\n",
      "Epoch 7/50\n",
      "241666/241666 [==============================] - 263s 1ms/step - loss: 0.1785 - acc: 0.9260 - val_loss: 0.2564 - val_acc: 0.8983\n",
      "\n",
      "Epoch 00007: val_loss did not improve\n",
      "Epoch 8/50\n",
      "241666/241666 [==============================] - 262s 1ms/step - loss: 0.1675 - acc: 0.9313 - val_loss: 0.2399 - val_acc: 0.9064\n",
      "\n",
      "Epoch 00008: val_loss did not improve\n",
      "Epoch 9/50\n",
      "241666/241666 [==============================] - 262s 1ms/step - loss: 0.1580 - acc: 0.9355 - val_loss: 0.2534 - val_acc: 0.9064\n",
      "\n",
      "Epoch 00009: val_loss did not improve\n",
      "Epoch 10/50\n",
      "241666/241666 [==============================] - 262s 1ms/step - loss: 0.1491 - acc: 0.9392 - val_loss: 0.2422 - val_acc: 0.9079\n",
      "\n",
      "Epoch 00010: val_loss did not improve\n",
      "Epoch 11/50\n",
      "241666/241666 [==============================] - 263s 1ms/step - loss: 0.1431 - acc: 0.9419 - val_loss: 0.2542 - val_acc: 0.9064\n",
      "\n",
      "Epoch 00011: val_loss did not improve\n",
      "Epoch 12/50\n",
      "241666/241666 [==============================] - 264s 1ms/step - loss: 0.1369 - acc: 0.9442 - val_loss: 0.2615 - val_acc: 0.9087\n",
      "\n",
      "Epoch 00012: val_loss did not improve\n",
      "Epoch 13/50\n",
      "241666/241666 [==============================] - 264s 1ms/step - loss: 0.1310 - acc: 0.9472 - val_loss: 0.2554 - val_acc: 0.9096\n",
      "\n",
      "Epoch 00013: val_loss did not improve\n",
      "Epoch 14/50\n",
      " 71424/241666 [=======>......................] - ETA: 3:01 - loss: 0.1172 - acc: 0.9524"
     ]
    }
   ],
   "source": [
    "\n",
    "bst_model_path = 'model/simple_lstm_best.h5'\n",
    "print('bst_model_path',bst_model_path) \n",
    "\n",
    "early_stopping =EarlyStopping(monitor='val_loss', patience=5) \n",
    "reduce_lr = ReduceLROnPlateau(monitor='val_loss', factor=0.5, patience=10, min_lr=0.0001)\n",
    "checkpointer = ModelCheckpoint(monitor='val_loss',filepath=bst_model_path, verbose=1, save_best_only=True, save_weights_only=True)\n",
    "callbacks=[reduce_lr, checkpointer]\n",
    "\n",
    "hist = model.fit([data_trainq1, data_trainq2], labels_train, validation_data=([data_valq1,data_valq2], labels_val), epochs=50, batch_size=256, shuffle=True, callbacks=callbacks) \n",
    "bst_val_score = min(hist.history['val_loss']) \n",
    "print('\\nbst_val_score',bst_val_score)\n",
    "\n",
    "model.save('model/simple_lstm_final.h5')\n",
    "ret = model.evaluate([data_valq1,data_valq2], labels_val)\n",
    "print('final evaluate',ret)\n",
    "\n",
    "model.load_weights(bst_model_path) \n",
    "ret = model.evaluate([data_valq1,data_valq2], labels_val)\n",
    "print('best evaluate',ret)\n",
    "\n",
    "\n",
    "plt.plot(hist.history['loss'], label='loss')\n",
    "plt.plot(hist.history['val_loss'], label='val_loss')\n",
    "plt.legend()\n",
    "plt.show()\n",
    "plt.plot(hist.history['loss'], label='loss')\n",
    "plt.plot(hist.history['val_loss'], label='val_loss')\n",
    "plt.legend()\n",
    "plt.ylim((0, 0.5))\n",
    "plt.show()\n",
    "\n",
    "\n",
    "    \n",
    "    \n",
    "    "
   ]
  },
  {
   "cell_type": "code",
   "execution_count": 30,
   "metadata": {},
   "outputs": [
    {
     "name": "stdout",
     "output_type": "stream",
     "text": [
      "12720/12720 [==============================] - 27s 2ms/step\n",
      "final evaluate [0.43958451479632016, 0.9156446540880503]\n",
      "12720/12720 [==============================] - 27s 2ms/step\n",
      "best evaluate [0.23770760890541587, 0.9015723270440251]\n"
     ]
    },
    {
     "data": {
      "image/png": "[encoded data removed]",
      "text/plain": [
       "<matplotlib.figure.Figure at 0x7f2b91152668>"
      ]
     },
     "metadata": {},
     "output_type": "display_data"
    },
    {
     "data": {
      "image/png": "[encoded data removed]",
      "text/plain": [
       "<matplotlib.figure.Figure at 0x7f2b1cfbff98>"
      ]
     },
     "metadata": {},
     "output_type": "display_data"
    }
   ],
   "source": [
    "model.load_weights('model/simple_lstm_final.h5')\n",
    "ret = model.evaluate([data_valq1,data_valq2], labels_val)\n",
    "print('final evaluate',ret)\n",
    "\n",
    "model.load_weights(bst_model_path) \n",
    "ret = model.evaluate([data_valq1,data_valq2], labels_val)\n",
    "print('best evaluate',ret)\n",
    "\n",
    "\n",
    "plt.plot(hist.history['loss'], label='loss')\n",
    "plt.plot(hist.history['val_loss'], label='val_loss')\n",
    "plt.legend()\n",
    "plt.show()\n",
    "plt.plot(hist.history['loss'], label='loss')\n",
    "plt.plot(hist.history['val_loss'], label='val_loss')\n",
    "plt.legend()\n",
    "plt.ylim((0, 0.5))\n",
    "plt.show()"
   ]
  },
  {
   "cell_type": "code",
   "execution_count": 31,
   "metadata": {},
   "outputs": [
    {
     "name": "stdout",
     "output_type": "stream",
     "text": [
      "172956/172956 [==============================] - 48s 276us/step\n"
     ]
    }
   ],
   "source": [
    "\n",
    "def make_submission(predict_prob):\n",
    "    with open('submission.csv', 'w') as file:\n",
    "        file.write(str('y_pre') + '\\n')\n",
    "        for line in predict_prob:\n",
    "            file.write(str(line) + '\\n')\n",
    "    file.close()\n",
    "    \n",
    "testpred = model.predict([date_testq1, date_testq2], batch_size=1024, verbose=1) \n",
    "make_submission(testpred[:, 0])\n"
   ]
  },
  {
   "cell_type": "code",
   "execution_count": null,
   "metadata": {},
   "outputs": [],
   "source": []
  },
  {
   "cell_type": "code",
   "execution_count": null,
   "metadata": {},
   "outputs": [],
   "source": []
  },
  {
   "cell_type": "markdown",
   "metadata": {
    "collapsed": true
   },
   "source": [
    "## TODO: \n",
    "~~1. 確認第一版最簡單model的logloss (baseline)~~  \n",
    "~~2. 參考AP5加入各種callback~~      \n",
    "3. try importance sampling   \n",
    "4. try other optimizer (adam...)  \n",
    "~~5. modify the LSTM model~~  bi-directional model (kaggle的kernel裡面找一下toxic前三名的model)  \n",
    "~~6. validation data的數量改成3~5%~~  \n",
    "7. combine word and character  \n",
    "8. pseudo-labelling  \n",
    "9. 把句子去頭去尾    \n",
    "~~10. MAX_SEQUENCE_LENGTH的長度不太合理~~\n",
    "10. 去除每篇文章都出現的字\n"
   ]
  },
  {
   "cell_type": "code",
   "execution_count": null,
   "metadata": {},
   "outputs": [],
   "source": []
  }
 ],
 "metadata": {
  "kernelspec": {
   "display_name": "Python 3",
   "language": "python",
   "name": "python3"
  },
  "language_info": {
   "codemirror_mode": {
    "name": "ipython",
    "version": 3
   },
   "file_extension": ".py",
   "mimetype": "text/x-python",
   "name": "python",
   "nbconvert_exporter": "python",
   "pygments_lexer": "ipython3",
   "version": "3.6.1"
  }
 },
 "nbformat": 4,
 "nbformat_minor": 2
}
